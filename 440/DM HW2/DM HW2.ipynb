{
 "cells": [
  {
   "cell_type": "markdown",
   "metadata": {},
   "source": [
    "# CSC440-Data Mining Homework 2 ( Written by Haoshu Qin )"
   ]
  },
  {
   "cell_type": "markdown",
   "metadata": {},
   "source": [
    "Description:\n",
    "This assignment is about similarity/dissimilarity/distance in hetrogyneous data sets  and is based largely on our lecture discussions of distance measurments.\n",
    "Download and get to know the \"Adult\" census data base.(http://archive.ics.uci.edu/ml/datasets/Adult)\n",
    "There are 14 attributes in this data set.\n",
    "1. For each attribute design and program a similarity metric. This is a function that takes in two values attribute values and returns a result in the interval [0,1]. \"0\" meaning ' not similar at all' , \"1\" meaning 'similar'. \n",
    "2. Write a function that takes two entire records (two rows from the database) and returns a result in the interval [0,1]. \"0\" meaning ' not similar at all' , \"1\" meaning 'similar'. \n",
    "3. You should hand in a pdf that includes 15 subsections  - one for each attribute, and one for the overall function. Each section should contain a short (no more than one paragraph) explanation of how the function works why your strategy makes sense for that attribute and the code for the function itself (not the entire program).   "
   ]
  },
  {
   "cell_type": "markdown",
   "metadata": {},
   "source": [
    "## 0. Preparation"
   ]
  },
  {
   "cell_type": "code",
   "execution_count": 1,
   "metadata": {},
   "outputs": [],
   "source": [
    "import pandas as pd"
   ]
  },
  {
   "cell_type": "code",
   "execution_count": 2,
   "metadata": {},
   "outputs": [],
   "source": [
    "def read_data(address):\n",
    "    data_tmp = []\n",
    "    data_list = []\n",
    "    with open(address, 'r') as f:\n",
    "        data = f.readlines()\n",
    "        for line in data:\n",
    "            line = line.strip('\\n')\n",
    "            data_tmp.append(line)\n",
    "    for item in data_tmp:\n",
    "        item = item.replace(' ','').split(',')\n",
    "        data_list.append(item)\n",
    "    return data_list\n",
    "\n",
    "data = read_data('adult.data')"
   ]
  },
  {
   "cell_type": "code",
   "execution_count": 3,
   "metadata": {},
   "outputs": [],
   "source": [
    "column_names = ['Age', 'Workclass', 'fnlwgt', 'Education',\n",
    "                'Education-num', 'Marital-status', 'Occupation',\n",
    "               'Relationship', 'Race', 'Sex', 'Capital-gain',\n",
    "               'Capital-loss', 'Hours-per-week', 'Native-country',\n",
    "               'Salary']\n",
    "data = pd.read_csv('adult.data', header = 0, names=column_names)"
   ]
  },
  {
   "cell_type": "code",
   "execution_count": 4,
   "metadata": {},
   "outputs": [
    {
     "data": {
      "text/html": [
       "<div>\n",
       "<style scoped>\n",
       "    .dataframe tbody tr th:only-of-type {\n",
       "        vertical-align: middle;\n",
       "    }\n",
       "\n",
       "    .dataframe tbody tr th {\n",
       "        vertical-align: top;\n",
       "    }\n",
       "\n",
       "    .dataframe thead th {\n",
       "        text-align: right;\n",
       "    }\n",
       "</style>\n",
       "<table border=\"1\" class=\"dataframe\">\n",
       "  <thead>\n",
       "    <tr style=\"text-align: right;\">\n",
       "      <th></th>\n",
       "      <th>Age</th>\n",
       "      <th>Workclass</th>\n",
       "      <th>fnlwgt</th>\n",
       "      <th>Education</th>\n",
       "      <th>Education-num</th>\n",
       "      <th>Marital-status</th>\n",
       "      <th>Occupation</th>\n",
       "      <th>Relationship</th>\n",
       "      <th>Race</th>\n",
       "      <th>Sex</th>\n",
       "      <th>Capital-gain</th>\n",
       "      <th>Capital-loss</th>\n",
       "      <th>Hours-per-week</th>\n",
       "      <th>Native-country</th>\n",
       "      <th>Salary</th>\n",
       "    </tr>\n",
       "  </thead>\n",
       "  <tbody>\n",
       "    <tr>\n",
       "      <th>0</th>\n",
       "      <td>50</td>\n",
       "      <td>Self-emp-not-inc</td>\n",
       "      <td>83311</td>\n",
       "      <td>Bachelors</td>\n",
       "      <td>13</td>\n",
       "      <td>Married-civ-spouse</td>\n",
       "      <td>Exec-managerial</td>\n",
       "      <td>Husband</td>\n",
       "      <td>White</td>\n",
       "      <td>Male</td>\n",
       "      <td>0</td>\n",
       "      <td>0</td>\n",
       "      <td>13</td>\n",
       "      <td>United-States</td>\n",
       "      <td>&lt;=50K</td>\n",
       "    </tr>\n",
       "    <tr>\n",
       "      <th>1</th>\n",
       "      <td>38</td>\n",
       "      <td>Private</td>\n",
       "      <td>215646</td>\n",
       "      <td>HS-grad</td>\n",
       "      <td>9</td>\n",
       "      <td>Divorced</td>\n",
       "      <td>Handlers-cleaners</td>\n",
       "      <td>Not-in-family</td>\n",
       "      <td>White</td>\n",
       "      <td>Male</td>\n",
       "      <td>0</td>\n",
       "      <td>0</td>\n",
       "      <td>40</td>\n",
       "      <td>United-States</td>\n",
       "      <td>&lt;=50K</td>\n",
       "    </tr>\n",
       "    <tr>\n",
       "      <th>2</th>\n",
       "      <td>53</td>\n",
       "      <td>Private</td>\n",
       "      <td>234721</td>\n",
       "      <td>11th</td>\n",
       "      <td>7</td>\n",
       "      <td>Married-civ-spouse</td>\n",
       "      <td>Handlers-cleaners</td>\n",
       "      <td>Husband</td>\n",
       "      <td>Black</td>\n",
       "      <td>Male</td>\n",
       "      <td>0</td>\n",
       "      <td>0</td>\n",
       "      <td>40</td>\n",
       "      <td>United-States</td>\n",
       "      <td>&lt;=50K</td>\n",
       "    </tr>\n",
       "    <tr>\n",
       "      <th>3</th>\n",
       "      <td>28</td>\n",
       "      <td>Private</td>\n",
       "      <td>338409</td>\n",
       "      <td>Bachelors</td>\n",
       "      <td>13</td>\n",
       "      <td>Married-civ-spouse</td>\n",
       "      <td>Prof-specialty</td>\n",
       "      <td>Wife</td>\n",
       "      <td>Black</td>\n",
       "      <td>Female</td>\n",
       "      <td>0</td>\n",
       "      <td>0</td>\n",
       "      <td>40</td>\n",
       "      <td>Cuba</td>\n",
       "      <td>&lt;=50K</td>\n",
       "    </tr>\n",
       "    <tr>\n",
       "      <th>4</th>\n",
       "      <td>37</td>\n",
       "      <td>Private</td>\n",
       "      <td>284582</td>\n",
       "      <td>Masters</td>\n",
       "      <td>14</td>\n",
       "      <td>Married-civ-spouse</td>\n",
       "      <td>Exec-managerial</td>\n",
       "      <td>Wife</td>\n",
       "      <td>White</td>\n",
       "      <td>Female</td>\n",
       "      <td>0</td>\n",
       "      <td>0</td>\n",
       "      <td>40</td>\n",
       "      <td>United-States</td>\n",
       "      <td>&lt;=50K</td>\n",
       "    </tr>\n",
       "  </tbody>\n",
       "</table>\n",
       "</div>"
      ],
      "text/plain": [
       "   Age          Workclass  fnlwgt   Education  Education-num  \\\n",
       "0   50   Self-emp-not-inc   83311   Bachelors             13   \n",
       "1   38            Private  215646     HS-grad              9   \n",
       "2   53            Private  234721        11th              7   \n",
       "3   28            Private  338409   Bachelors             13   \n",
       "4   37            Private  284582     Masters             14   \n",
       "\n",
       "        Marital-status          Occupation    Relationship    Race      Sex  \\\n",
       "0   Married-civ-spouse     Exec-managerial         Husband   White     Male   \n",
       "1             Divorced   Handlers-cleaners   Not-in-family   White     Male   \n",
       "2   Married-civ-spouse   Handlers-cleaners         Husband   Black     Male   \n",
       "3   Married-civ-spouse      Prof-specialty            Wife   Black   Female   \n",
       "4   Married-civ-spouse     Exec-managerial            Wife   White   Female   \n",
       "\n",
       "   Capital-gain  Capital-loss  Hours-per-week  Native-country  Salary  \n",
       "0             0             0              13   United-States   <=50K  \n",
       "1             0             0              40   United-States   <=50K  \n",
       "2             0             0              40   United-States   <=50K  \n",
       "3             0             0              40            Cuba   <=50K  \n",
       "4             0             0              40   United-States   <=50K  "
      ]
     },
     "execution_count": 4,
     "metadata": {},
     "output_type": "execute_result"
    }
   ],
   "source": [
    "data.head()"
   ]
  },
  {
   "cell_type": "markdown",
   "metadata": {},
   "source": [
    "## 1. Age"
   ]
  },
  {
   "cell_type": "markdown",
   "metadata": {},
   "source": [
    "Description: 'Age' is a numeric(continuous) data. So I used the Manhattan distance to calculate the similarity and normalized the distance to the interval [0,1]."
   ]
  },
  {
   "cell_type": "code",
   "execution_count": 5,
   "metadata": {},
   "outputs": [],
   "source": [
    "data = read_data('adult.data')\n",
    "def calc_age_distance(data):\n",
    "    min_age = int(data[0][0])\n",
    "    max_age = int(data[0][0])\n",
    "    for i in range (len(data)):\n",
    "        if data[i][0].isdigit():\n",
    "            if int(data[i][0]) < min_age:\n",
    "                min_age = int(data[i][0])\n",
    "            if int(data[i][0]) > max_age:\n",
    "                max_age = int(data[i][0])\n",
    "    return max_age - min_age"
   ]
  },
  {
   "cell_type": "code",
   "execution_count": 6,
   "metadata": {},
   "outputs": [],
   "source": [
    "def age_sim(a1, a2, data):\n",
    "    distance = calc_age_distance(data)\n",
    "    if data[a1][0] == '?' or data[a2][0] =='?':\n",
    "        return -1\n",
    "    else:\n",
    "        age1 = int(data[a1][0])\n",
    "        age2 = int(data[a2][0])\n",
    "        sim = 1 - (float(abs(age1 - age2))/float(distance))\n",
    "        return sim    "
   ]
  },
  {
   "cell_type": "markdown",
   "metadata": {},
   "source": [
    "### Example 1.1"
   ]
  },
  {
   "cell_type": "code",
   "execution_count": 7,
   "metadata": {},
   "outputs": [
    {
     "name": "stdout",
     "output_type": "stream",
     "text": [
      "38 32\n"
     ]
    },
    {
     "data": {
      "text/plain": [
       "0.9178082191780822"
      ]
     },
     "execution_count": 7,
     "metadata": {},
     "output_type": "execute_result"
    }
   ],
   "source": [
    "print(data[2][0], data[13][0])\n",
    "#data[2][0] is 38, data[13][0] is 32.\n",
    "age_sim(2, 13, data)\n",
    "#Similarity is 0.9178082191780822."
   ]
  },
  {
   "cell_type": "markdown",
   "metadata": {},
   "source": [
    "## 2. Workclass"
   ]
  },
  {
   "cell_type": "markdown",
   "metadata": {},
   "source": [
    "Description: 'Workclass' is nominal data, such as Private, Self-emp-not-inc, Self-emp-inc, Federal-gov, Local-gov, State-gov, Without-pay, Never-worked. So I compare the strings in the data and use 0 and 1 to indicate their similarity."
   ]
  },
  {
   "cell_type": "code",
   "execution_count": 8,
   "metadata": {},
   "outputs": [],
   "source": [
    "def workclass_sim(a1, a2, data):\n",
    "    if data[a1][1] == '?' or data[a2][1] == '?':\n",
    "        return -1\n",
    "    else:\n",
    "        if data[a1][1] == data[a2][1]:\n",
    "            return 1\n",
    "        else:\n",
    "            return 0"
   ]
  },
  {
   "cell_type": "markdown",
   "metadata": {},
   "source": [
    "### Example 2.1"
   ]
  },
  {
   "cell_type": "code",
   "execution_count": 9,
   "metadata": {},
   "outputs": [
    {
     "name": "stdout",
     "output_type": "stream",
     "text": [
      "Private Private\n"
     ]
    },
    {
     "data": {
      "text/plain": [
       "1"
      ]
     },
     "execution_count": 9,
     "metadata": {},
     "output_type": "execute_result"
    }
   ],
   "source": [
    "print(data[3][1], data[12][1])\n",
    "#data[3][1] is 'Private', data[12][1] is 'Private'.\n",
    "workclass_sim(3, 12, data)\n",
    "#Similarity is 1."
   ]
  },
  {
   "cell_type": "markdown",
   "metadata": {},
   "source": [
    "### Example 2.2"
   ]
  },
  {
   "cell_type": "code",
   "execution_count": 10,
   "metadata": {},
   "outputs": [
    {
     "name": "stdout",
     "output_type": "stream",
     "text": [
      "Private Self-emp-not-inc\n"
     ]
    },
    {
     "data": {
      "text/plain": [
       "0"
      ]
     },
     "execution_count": 10,
     "metadata": {},
     "output_type": "execute_result"
    }
   ],
   "source": [
    "print(data[14][1], data[19][1])\n",
    "#data[14][1] is 'Private', data[19][1] is 'Self-emp-not-inc'.\n",
    "workclass_sim(14, 19, data)\n",
    "#Similarity is 0."
   ]
  },
  {
   "cell_type": "markdown",
   "metadata": {},
   "source": [
    "## 3. fnlwgt"
   ]
  },
  {
   "cell_type": "markdown",
   "metadata": {},
   "source": [
    "Description: 'fnlwgt' is a numeric(continuous) data. So I used the Manhattan distance to calculate the similarity and normalized the distance to the interval [0,1]."
   ]
  },
  {
   "cell_type": "code",
   "execution_count": 11,
   "metadata": {},
   "outputs": [],
   "source": [
    "def fnlwgt_sim(a1,a2,data):\n",
    "    min_val = max_val = int(data[0][2])\n",
    "    for i in range(len(data)-1):\n",
    "        if data[i][2].isdigit():\n",
    "            if int(data[i][2]) < min_val:\n",
    "                min_val = int(data[i][2])\n",
    "            if int(data[i][2]) > max_val:\n",
    "                max_val = int(data[i][2])\n",
    "    distance = abs(max_val - min_val)\n",
    "    if data[a1][2] == '?' or data[a2][2] == '?':\n",
    "        return -1\n",
    "    else:\n",
    "        fnlwgt1 = int(data[a1][2])\n",
    "        fnlwgt2 = int(data[a2][2])\n",
    "        sim = 1 - (float(abs(fnlwgt1 - fnlwgt2))/float(distance))\n",
    "        return sim"
   ]
  },
  {
   "cell_type": "markdown",
   "metadata": {},
   "source": [
    "### Example 3.1"
   ]
  },
  {
   "cell_type": "code",
   "execution_count": 12,
   "metadata": {},
   "outputs": [
    {
     "name": "stdout",
     "output_type": "stream",
     "text": [
      "121772 292175\n"
     ]
    },
    {
     "data": {
      "text/plain": [
       "0.884270113147064"
      ]
     },
     "execution_count": 12,
     "metadata": {},
     "output_type": "execute_result"
    }
   ],
   "source": [
    "print(data[14][2], data[19][2])\n",
    "#data[14][2] is 121772, data[19][2] is 292175.\n",
    "fnlwgt_sim(14, 19, data)\n",
    "#Similarity is 0.884270113147064."
   ]
  },
  {
   "cell_type": "markdown",
   "metadata": {},
   "source": [
    "## 4. Education"
   ]
  },
  {
   "cell_type": "markdown",
   "metadata": {},
   "source": [
    "Description: 'Education' is ordinal data, such as Bachelors, Some-college, 11th, HS-grad, Prof-school, Assoc-acdm, Assoc-voc, 9th, 7th-8th, 12th, Masters, 1st-4th, 10th, Doctorate, 5th-6th, Preschool. So I compare the strings in the data and use 0 and 1 to indicate their similarity."
   ]
  },
  {
   "cell_type": "code",
   "execution_count": 13,
   "metadata": {},
   "outputs": [],
   "source": [
    "def edu_sim(a1, a2, data):\n",
    "    if data[a1][3] == '?' or data[a2][3] == '?':\n",
    "        return -1\n",
    "    else:\n",
    "        if data[a1][3] == data[a2][3]:\n",
    "            return 1\n",
    "        else:\n",
    "            return 0"
   ]
  },
  {
   "cell_type": "markdown",
   "metadata": {},
   "source": [
    "### Example 4.1"
   ]
  },
  {
   "cell_type": "code",
   "execution_count": 14,
   "metadata": {},
   "outputs": [
    {
     "name": "stdout",
     "output_type": "stream",
     "text": [
      "Assoc-voc Masters\n"
     ]
    },
    {
     "data": {
      "text/plain": [
       "0"
      ]
     },
     "execution_count": 14,
     "metadata": {},
     "output_type": "execute_result"
    }
   ],
   "source": [
    "print(data[14][3], data[19][3])\n",
    "#data[14][3] is 'Assoc-voc', data[19][3] is 'Masters'.\n",
    "edu_sim(14, 19, data)\n",
    "#Similarity is 0."
   ]
  },
  {
   "cell_type": "markdown",
   "metadata": {},
   "source": [
    "### Example 4.2"
   ]
  },
  {
   "cell_type": "code",
   "execution_count": 15,
   "metadata": {},
   "outputs": [
    {
     "name": "stdout",
     "output_type": "stream",
     "text": [
      "Some-college Bachelors\n"
     ]
    },
    {
     "data": {
      "text/plain": [
       "0"
      ]
     },
     "execution_count": 15,
     "metadata": {},
     "output_type": "execute_result"
    }
   ],
   "source": [
    "print(data[10][3], data[12][3])\n",
    "#data[10][3] is 'Some-college', data[12][3] is 'Bachelors'.\n",
    "edu_sim(10, 12, data)\n",
    "#Similarity is 0."
   ]
  },
  {
   "cell_type": "markdown",
   "metadata": {},
   "source": [
    "## 5. Education_num"
   ]
  },
  {
   "cell_type": "markdown",
   "metadata": {},
   "source": [
    "Description: 'Education_num' is a numeric(continuous) data. So I used the Manhattan distance to calculate the similarity and normalized the distance to the interval [0,1]."
   ]
  },
  {
   "cell_type": "code",
   "execution_count": 16,
   "metadata": {},
   "outputs": [],
   "source": [
    "def edu_num_sim(a1,a2,data):\n",
    "        min_val = max_val = int(data[0][4])\n",
    "        for i in range(len(data)-1):\n",
    "            if data[i][4].isdigit():\n",
    "                if int(data[i][4]) < min_val:\n",
    "                    min_val = int(data[i][4])\n",
    "                if int(data[i][4]) > max_val:\n",
    "                    max_val = int(data[i][4])\n",
    "        distance = abs(max_val - min_val)\n",
    "        if data[a1][4] == '?' or data[a2][4] == '?':\n",
    "            return -1\n",
    "        else:\n",
    "            num1 = int(data[a1][4])\n",
    "            num2 = int(data[a2][4])\n",
    "            sim = 1 - (float(abs(num1 - num2))/float(distance))\n",
    "            return sim"
   ]
  },
  {
   "cell_type": "markdown",
   "metadata": {},
   "source": [
    "### Example 5.1"
   ]
  },
  {
   "cell_type": "code",
   "execution_count": 17,
   "metadata": {},
   "outputs": [
    {
     "name": "stdout",
     "output_type": "stream",
     "text": [
      "10 9\n"
     ]
    },
    {
     "data": {
      "text/plain": [
       "0.9333333333333333"
      ]
     },
     "execution_count": 17,
     "metadata": {},
     "output_type": "execute_result"
    }
   ],
   "source": [
    "print(data[10][4], data[16][4])\n",
    "#data[10][4] is 10, data[16][4] is 9.\n",
    "edu_num_sim(10, 16, data)\n",
    "#Similarity is 0.9333333333333333."
   ]
  },
  {
   "cell_type": "markdown",
   "metadata": {},
   "source": [
    "## 6. Marital-status"
   ]
  },
  {
   "cell_type": "markdown",
   "metadata": {},
   "source": [
    "Description: 'Marital-status' is nominal data, such as Married-civ-spouse, Divorced, Never-married, Separated, Widowed, Married-spouse-absent, Married-AF-spouse. So I compare the strings in the data and use 0 and 1 to indicate their similarity."
   ]
  },
  {
   "cell_type": "code",
   "execution_count": 18,
   "metadata": {},
   "outputs": [],
   "source": [
    "def marital_status_sim(a1,a2,data):\n",
    "    if data[a1][5] == '?' or data[a2][5] == '?':\n",
    "        return -1\n",
    "    else:\n",
    "        if data[a1][5] == data[a2][5]:\n",
    "            return 1\n",
    "        else:\n",
    "            return 0"
   ]
  },
  {
   "cell_type": "markdown",
   "metadata": {},
   "source": [
    "### Example 6.1"
   ]
  },
  {
   "cell_type": "code",
   "execution_count": 19,
   "metadata": {},
   "outputs": [
    {
     "name": "stdout",
     "output_type": "stream",
     "text": [
      "Married-civ-spouse Never-married\n"
     ]
    },
    {
     "data": {
      "text/plain": [
       "0"
      ]
     },
     "execution_count": 19,
     "metadata": {},
     "output_type": "execute_result"
    }
   ],
   "source": [
    "print(data[10][5], data[16][5])\n",
    "#data[10][5] is 'Married-civ-spouse', data[16][5] is 'Never-married'.\n",
    "marital_status_sim(10, 16, data)\n",
    "#Similarity is 0."
   ]
  },
  {
   "cell_type": "markdown",
   "metadata": {},
   "source": [
    "## 7. Occupation"
   ]
  },
  {
   "cell_type": "markdown",
   "metadata": {},
   "source": [
    "Description: 'Occupation' is nominal data, such as Tech-support, Craft-repair, Other-service, Sales, Exec-managerial, Prof-specialty, Handlers-cleaners, Machine-op-inspct, Adm-clerical, Farming-fishing, Transport-moving, Priv-house-serv, Protective-serv, Armed-Forces. So I compare the strings in the data and use 0 and 1 to indicate their similarity."
   ]
  },
  {
   "cell_type": "code",
   "execution_count": 20,
   "metadata": {},
   "outputs": [],
   "source": [
    "def occupation_sim(a1, a2, data):\n",
    "    if data[a1][6] == '?' or data[a2][6] == '?':\n",
    "        return -1\n",
    "    else:\n",
    "        if data[a1][6] == data[a2][6]:\n",
    "            return 1\n",
    "        else:\n",
    "            return 0"
   ]
  },
  {
   "cell_type": "markdown",
   "metadata": {},
   "source": [
    "### Example 7.1"
   ]
  },
  {
   "cell_type": "code",
   "execution_count": 21,
   "metadata": {},
   "outputs": [
    {
     "name": "stdout",
     "output_type": "stream",
     "text": [
      "Exec-managerial Farming-fishing\n"
     ]
    },
    {
     "data": {
      "text/plain": [
       "0"
      ]
     },
     "execution_count": 21,
     "metadata": {},
     "output_type": "execute_result"
    }
   ],
   "source": [
    "print(data[10][6],data[16][6])\n",
    "#data[10][6] is 'Exec-managerial', data[16][6] is 'Farming-fishing'.\n",
    "occupation_sim(10,16,data)\n",
    "#Similarity is 0."
   ]
  },
  {
   "cell_type": "markdown",
   "metadata": {},
   "source": [
    "## 8. Relationship"
   ]
  },
  {
   "cell_type": "markdown",
   "metadata": {},
   "source": [
    "Description: 'Relationship' is nominal data, such as Wife, Own-child, Husband, Not-in-family, Other-relative, Unmarried. So I compare the strings in the data and use 0 and 1 to indicate their similarity."
   ]
  },
  {
   "cell_type": "code",
   "execution_count": 22,
   "metadata": {},
   "outputs": [],
   "source": [
    "def relationship_sim(a1,a2,data):\n",
    "    if data[a1][7] == '?' or data[a2][7] == '?':\n",
    "        return -1\n",
    "    else:\n",
    "        if data[a1][7] == data[a2][7]:\n",
    "            return 1\n",
    "        else:\n",
    "            return 0"
   ]
  },
  {
   "cell_type": "markdown",
   "metadata": {},
   "source": [
    "### Example 8.1"
   ]
  },
  {
   "cell_type": "code",
   "execution_count": 23,
   "metadata": {},
   "outputs": [
    {
     "name": "stdout",
     "output_type": "stream",
     "text": [
      "Husband Own-child\n"
     ]
    },
    {
     "data": {
      "text/plain": [
       "0"
      ]
     },
     "execution_count": 23,
     "metadata": {},
     "output_type": "execute_result"
    }
   ],
   "source": [
    "print(data[10][7], data[16][7])\n",
    "#data[10][7] is 'Husband', data[16][7] is 'Own-child'.\n",
    "relationship_sim(10, 16, data)\n",
    "#Similarity is 0."
   ]
  },
  {
   "cell_type": "markdown",
   "metadata": {},
   "source": [
    "## 9. Race"
   ]
  },
  {
   "cell_type": "markdown",
   "metadata": {},
   "source": [
    "Description: 'Race' is nominal data, such as White, Asian-Pac-Islander, Amer-Indian-Eskimo, Other, Black. So I compare the strings in the data and use 0 and 1 to indicate their similarity."
   ]
  },
  {
   "cell_type": "code",
   "execution_count": 24,
   "metadata": {},
   "outputs": [],
   "source": [
    "def race_sim(a1, a2, data):\n",
    "    if data[a1][8] == '?' or data[a2][8] == '?':\n",
    "        return -1\n",
    "    else:\n",
    "        if data[a1][8] == data[a2][8]:\n",
    "            return 1\n",
    "        else:\n",
    "            return 0"
   ]
  },
  {
   "cell_type": "markdown",
   "metadata": {},
   "source": [
    "### Example 9.1"
   ]
  },
  {
   "cell_type": "code",
   "execution_count": 25,
   "metadata": {},
   "outputs": [
    {
     "name": "stdout",
     "output_type": "stream",
     "text": [
      "Black White\n"
     ]
    },
    {
     "data": {
      "text/plain": [
       "0"
      ]
     },
     "execution_count": 25,
     "metadata": {},
     "output_type": "execute_result"
    }
   ],
   "source": [
    "print(data[10][8], data[16][8])\n",
    "#data[10][8] is 'Black', data[16][8] is 'White'.\n",
    "race_sim(10, 16, data)\n",
    "#Similarity is 0."
   ]
  },
  {
   "cell_type": "markdown",
   "metadata": {},
   "source": [
    "### Example 9.2"
   ]
  },
  {
   "cell_type": "code",
   "execution_count": 26,
   "metadata": {},
   "outputs": [
    {
     "name": "stdout",
     "output_type": "stream",
     "text": [
      "White White\n"
     ]
    },
    {
     "data": {
      "text/plain": [
       "1"
      ]
     },
     "execution_count": 26,
     "metadata": {},
     "output_type": "execute_result"
    }
   ],
   "source": [
    "print(data[5][8], data[16][8])\n",
    "#data[5][8] is 'White', data[16][8] is 'White'.\n",
    "race_sim(5, 16, data)\n",
    "#Similarity is 1."
   ]
  },
  {
   "cell_type": "markdown",
   "metadata": {},
   "source": [
    "## 10. Sex"
   ]
  },
  {
   "cell_type": "markdown",
   "metadata": {},
   "source": [
    "Description: 'Race' is nominal data, such as Female, Male. So I compare the strings in the data and use 0 and 1 to indicate their similarity."
   ]
  },
  {
   "cell_type": "code",
   "execution_count": 27,
   "metadata": {},
   "outputs": [],
   "source": [
    "def sex_sim(a1,a2,data):\n",
    "    if data[a1][9] == '?' or data[a2][9] == '?':\n",
    "        return -1\n",
    "    else:\n",
    "        if data[a1][9] == data[a2][9]:\n",
    "            return 1\n",
    "        else:\n",
    "            return 0"
   ]
  },
  {
   "cell_type": "markdown",
   "metadata": {},
   "source": [
    "### Example 10.1"
   ]
  },
  {
   "cell_type": "code",
   "execution_count": 28,
   "metadata": {},
   "outputs": [
    {
     "name": "stdout",
     "output_type": "stream",
     "text": [
      "Male Male\n"
     ]
    },
    {
     "data": {
      "text/plain": [
       "1"
      ]
     },
     "execution_count": 28,
     "metadata": {},
     "output_type": "execute_result"
    }
   ],
   "source": [
    "print(data[10][9], data[16][9])\n",
    "#data[10][9] is 'Male', data[16][9] is 'Male'.\n",
    "sex_sim(10, 16, data)\n",
    "#Similarity is 1."
   ]
  },
  {
   "cell_type": "markdown",
   "metadata": {},
   "source": [
    "### Example 10.2"
   ]
  },
  {
   "cell_type": "code",
   "execution_count": 29,
   "metadata": {},
   "outputs": [
    {
     "name": "stdout",
     "output_type": "stream",
     "text": [
      "Female Male\n"
     ]
    },
    {
     "data": {
      "text/plain": [
       "0"
      ]
     },
     "execution_count": 29,
     "metadata": {},
     "output_type": "execute_result"
    }
   ],
   "source": [
    "print(data[5][9], data[16][9])\n",
    "#data[5][9] is 'Female', data[16][9] is 'Male'.\n",
    "sex_sim(5, 16, data)\n",
    "#Similarity is 0."
   ]
  },
  {
   "cell_type": "markdown",
   "metadata": {},
   "source": [
    "## 11. Capital-gain"
   ]
  },
  {
   "cell_type": "markdown",
   "metadata": {},
   "source": [
    "Description: 'Capital-gain' is a numeric(continuous) data. So I used the Manhattan distance to calculate the similarity and normalized the distance to the interval [0,1]."
   ]
  },
  {
   "cell_type": "code",
   "execution_count": 30,
   "metadata": {},
   "outputs": [],
   "source": [
    "def capital_gain_sim(a1,a2,data):\n",
    "    min_val = max_val = int(data[0][10])\n",
    "    for i in range(len(data)-1):\n",
    "        if data[i][10].isdigit():\n",
    "            if int(data[i][10]) < min_val:\n",
    "                min_val = int(data[i][10])\n",
    "            if int(data[i][10]) > max_val:\n",
    "                max_val = int(data[i][10])\n",
    "    distance = abs(max_val - min_val)\n",
    "    if data[a1][10] == '?' or data[a2][10] == '?':\n",
    "        return -1\n",
    "    else:\n",
    "        num1 = int(data[a1][10])\n",
    "        num2 = int(data[a2][10])\n",
    "        sim = 1 - (float(abs(num1 - num2))/float(distance))\n",
    "        return sim"
   ]
  },
  {
   "cell_type": "markdown",
   "metadata": {},
   "source": [
    "### Example 11.1"
   ]
  },
  {
   "cell_type": "code",
   "execution_count": 31,
   "metadata": {},
   "outputs": [
    {
     "name": "stdout",
     "output_type": "stream",
     "text": [
      "0 0\n"
     ]
    },
    {
     "data": {
      "text/plain": [
       "1.0"
      ]
     },
     "execution_count": 31,
     "metadata": {},
     "output_type": "execute_result"
    }
   ],
   "source": [
    "print(data[10][10], data[16][10])\n",
    "#data[10][10] is 0, data[16][10] is 0.\n",
    "capital_gain_sim(10, 16, data)\n",
    "#Similarity is 1."
   ]
  },
  {
   "cell_type": "markdown",
   "metadata": {},
   "source": [
    "### Example 11.2"
   ]
  },
  {
   "cell_type": "code",
   "execution_count": 32,
   "metadata": {},
   "outputs": [
    {
     "name": "stdout",
     "output_type": "stream",
     "text": [
      "5178 0\n"
     ]
    },
    {
     "data": {
      "text/plain": [
       "0.948219482194822"
      ]
     },
     "execution_count": 32,
     "metadata": {},
     "output_type": "execute_result"
    }
   ],
   "source": [
    "print(data[9][10], data[20][10])\n",
    "#data[9][10] is 5178, data[20][10] is 0.\n",
    "capital_gain_sim(9, 20, data)\n",
    "#Similarity is 0.948219482194822."
   ]
  },
  {
   "cell_type": "markdown",
   "metadata": {},
   "source": [
    "## 12. Capital-loss"
   ]
  },
  {
   "cell_type": "markdown",
   "metadata": {},
   "source": [
    "Description: 'Capital-loss' is a numeric(continuous) data. So I used the Manhattan distance to calculate the similarity and normalized the distance to the interval [0,1]."
   ]
  },
  {
   "cell_type": "code",
   "execution_count": 33,
   "metadata": {},
   "outputs": [],
   "source": [
    "def capital_loss_sim(a1,a2,data):\n",
    "    min_val = max_val = int(data[0][11])\n",
    "    for i in range(len(data)-1):\n",
    "        if data[i][11].isdigit():\n",
    "            if int(data[i][11]) < min_val:\n",
    "                min_val = int(data[i][11])\n",
    "            if int(data[i][11]) > max_val:\n",
    "                max_val = int(data[i][11])\n",
    "    distance = abs(max_val - min_val)\n",
    "    if data[a1][11] == '?' or data[a2][11] == '?':\n",
    "        return -1\n",
    "    else:\n",
    "        num1 = int(data[a1][11])\n",
    "        num2 = int(data[a2][11])\n",
    "        sim = 1 - (float(abs(num1 - num2))/float(distance))\n",
    "        return sim"
   ]
  },
  {
   "cell_type": "markdown",
   "metadata": {},
   "source": [
    "### Example 12.1"
   ]
  },
  {
   "cell_type": "code",
   "execution_count": 34,
   "metadata": {},
   "outputs": [
    {
     "name": "stdout",
     "output_type": "stream",
     "text": [
      "0 0\n"
     ]
    },
    {
     "data": {
      "text/plain": [
       "1.0"
      ]
     },
     "execution_count": 34,
     "metadata": {},
     "output_type": "execute_result"
    }
   ],
   "source": [
    "print(data[10][11], data[16][11])\n",
    "#data[10][11] is 0, data[16][11] is 0.\n",
    "capital_loss_sim(10, 16, data)\n",
    "#Similarity is 1."
   ]
  },
  {
   "cell_type": "markdown",
   "metadata": {},
   "source": [
    "### Example 12.2"
   ]
  },
  {
   "cell_type": "code",
   "execution_count": 35,
   "metadata": {},
   "outputs": [
    {
     "name": "stdout",
     "output_type": "stream",
     "text": [
      "1408 0\n"
     ]
    },
    {
     "data": {
      "text/plain": [
       "0.6767676767676767"
      ]
     },
     "execution_count": 35,
     "metadata": {},
     "output_type": "execute_result"
    }
   ],
   "source": [
    "print(data[32][11], data[40][11])\n",
    "#data[32][11] is 1408, data[40][11] is 0.\n",
    "capital_loss_sim(32, 40, data)\n",
    "#Similarity is 0.6767676767676767."
   ]
  },
  {
   "cell_type": "markdown",
   "metadata": {},
   "source": [
    "## 13. Hours-per-week"
   ]
  },
  {
   "cell_type": "markdown",
   "metadata": {},
   "source": [
    "Description: 'Hours-per-week' is a numeric(continuous) data. So I used the Manhattan distance to calculate the similarity and normalized the distance to the interval [0,1]."
   ]
  },
  {
   "cell_type": "code",
   "execution_count": 36,
   "metadata": {},
   "outputs": [],
   "source": [
    "def hourspweek_sim(a1,a2,data):\n",
    "    min_val = max_val = int(data[0][12])\n",
    "    for i in range(len(data)-1):\n",
    "        if data[i][12].isdigit():\n",
    "            if int(data[i][12]) < min_val:\n",
    "                min_val = int(data[i][12])\n",
    "            if int(data[i][12]) > max_val:\n",
    "                max_val = int(data[i][12])\n",
    "    distance = abs(max_val - min_val)\n",
    "    if data[a1][12] == '?' or data[a2][12] == '?':\n",
    "        return -1\n",
    "    else:\n",
    "        num1 = int(data[a1][12])\n",
    "        num2 = int(data[a2][12])\n",
    "        sim = 1 - (float(abs(num1 - num2))/float(distance))\n",
    "        return sim"
   ]
  },
  {
   "cell_type": "markdown",
   "metadata": {},
   "source": [
    "### Example 13.1"
   ]
  },
  {
   "cell_type": "code",
   "execution_count": 37,
   "metadata": {},
   "outputs": [
    {
     "name": "stdout",
     "output_type": "stream",
     "text": [
      "80 35\n"
     ]
    },
    {
     "data": {
      "text/plain": [
       "0.5408163265306123"
      ]
     },
     "execution_count": 37,
     "metadata": {},
     "output_type": "execute_result"
    }
   ],
   "source": [
    "print(data[10][12], data[16][12])\n",
    "#data[10][12] is 80, data[16][12] is 35.\n",
    "hourspweek_sim(10, 16, data)\n",
    "#Similarity is 0.5408163265306123."
   ]
  },
  {
   "cell_type": "markdown",
   "metadata": {},
   "source": [
    "## 14. Native-country"
   ]
  },
  {
   "cell_type": "markdown",
   "metadata": {},
   "source": [
    "Description: 'Native-country' is nominal data, such as United-States, Cambodia, England, Puerto-Rico, Canada, Germany, Outlying-US(Guam-USVI-etc), India, Japan, Greece, South, China, Cuba, Iran, Honduras, Philippines, Italy, Poland, Jamaica, Vietnam, Mexico, Portugal, Ireland, France, Dominican-Republic, Laos, Ecuador, Taiwan, Haiti, Columbia, Hungary, Guatemala, Nicaragua, Scotland, Thailand, Yugoslavia, El-Salvador, Trinadad&Tobago, Peru, Hong, Holand-Netherlands. So I compare the strings in the data and use 0 and 1 to indicate their similarity."
   ]
  },
  {
   "cell_type": "code",
   "execution_count": 38,
   "metadata": {},
   "outputs": [],
   "source": [
    "def country_sim(a1,a2,data):\n",
    "    if data[a1][13] == '?' or data[a2][13] == '?':\n",
    "        return -1\n",
    "    else:\n",
    "        if data[a1][13] == data[a2][13]:\n",
    "            return 1\n",
    "        else:\n",
    "            return 0"
   ]
  },
  {
   "cell_type": "markdown",
   "metadata": {},
   "source": [
    "### Example 14.1"
   ]
  },
  {
   "cell_type": "code",
   "execution_count": 39,
   "metadata": {},
   "outputs": [
    {
     "name": "stdout",
     "output_type": "stream",
     "text": [
      "United-States United-States\n"
     ]
    },
    {
     "data": {
      "text/plain": [
       "1"
      ]
     },
     "execution_count": 39,
     "metadata": {},
     "output_type": "execute_result"
    }
   ],
   "source": [
    "print(data[10][13], data[16][13])\n",
    "#data[10][13] is 'United-States', data[16][13] is 'United-States'.\n",
    "country_sim(10, 16, data)\n",
    "#Similarity is 1."
   ]
  },
  {
   "cell_type": "markdown",
   "metadata": {},
   "source": [
    "### Example 14.2"
   ]
  },
  {
   "cell_type": "code",
   "execution_count": 40,
   "metadata": {},
   "outputs": [
    {
     "name": "stdout",
     "output_type": "stream",
     "text": [
      "United-States Honduras\n"
     ]
    },
    {
     "data": {
      "text/plain": [
       "0"
      ]
     },
     "execution_count": 40,
     "metadata": {},
     "output_type": "execute_result"
    }
   ],
   "source": [
    "print(data[39][13], data[52][13])\n",
    "#data[39][13] is 'United-States', data[52][13] is 'Honduras'.\n",
    "country_sim(39, 52, data)\n",
    "#Similarity is 0."
   ]
  },
  {
   "cell_type": "markdown",
   "metadata": {},
   "source": [
    "## 15. Overall Function"
   ]
  },
  {
   "cell_type": "markdown",
   "metadata": {},
   "source": [
    "There are totally 14 attributes divided into 2 categories: numrical or categorical."
   ]
  },
  {
   "cell_type": "markdown",
   "metadata": {},
   "source": [
    "### 15.1 Numrical variables"
   ]
  },
  {
   "cell_type": "markdown",
   "metadata": {},
   "source": [
    "Numerical variables can be further divided into the following two categories.\n",
    "\n",
    "Discrete variables (discrete): The values can only be calculated with natural numbers or integer units, and the values are intermittent, and there are no other values between two adjacent values, and the values of such variables are generally obtained by counting.\n",
    "\n",
    "Continuous variable (continuous): The value can be taken in a certain interval, and the value is continuous.\n",
    "\n",
    "In this dataset, we have only continuous variables, which include age, fnlwgt, education-num, capital-gain, capital-loss and hours-per-week. \n",
    "\n",
    "So I used the Manhattan distance to calculate the similarity and normalized the distance to the interval [0,1]."
   ]
  },
  {
   "cell_type": "markdown",
   "metadata": {},
   "source": [
    "### 15.2 Categorical variables"
   ]
  },
  {
   "cell_type": "markdown",
   "metadata": {},
   "source": [
    "Categorical variables can be further divided into the following two categories.\n",
    "\n",
    "Ordinal variables: Describe the rank or order of things, the value of the variable can be numeric or character-based, and can then be compared to the advantages and disadvantages, such as the degree of liking: like very much, average, dislike .\n",
    "\n",
    "Nominal variables: There is no order difference between the values, only for classification, and can be divided into binary categorical variables and multi-categorical variables. A binary categorical variable refers to dividing all data into two categories and the binary classification variable is a special classification variable with its own unique analysis method. Multi-category variable refers to more than two categories, such as blood type is divided into A, B, AB, O.\n",
    "\n",
    "In this dataset, we have both nominal and ordinal variables. Regardless of that categorical variable, I use 0 to indicate that two variables have different values and 1 to indicate that the two variables have the same value."
   ]
  },
  {
   "cell_type": "markdown",
   "metadata": {},
   "source": [
    "### 15.3 Overall similarity"
   ]
  },
  {
   "cell_type": "markdown",
   "metadata": {},
   "source": [
    "The overall similarity between two sample, I used the dissimilarity mixed type function to calculate and normalized the distance to the interval [0,1]."
   ]
  },
  {
   "cell_type": "code",
   "execution_count": 41,
   "metadata": {},
   "outputs": [],
   "source": [
    "def overall_sim(a1, a2, data):\n",
    "    sim_list_tmp = [age_sim(a1, a2, data), \n",
    "                    workclass_sim(a1, a2, data), \n",
    "                    fnlwgt_sim(a1,a2,data), \n",
    "                    edu_sim(a1, a2, data), \n",
    "                    edu_num_sim(a1,a2,data), \n",
    "                    marital_status_sim(a1,a2,data), \n",
    "                    occupation_sim(a1, a2, data), \n",
    "                    relationship_sim(a1,a2,data), \n",
    "                    race_sim(a1, a2, data), \n",
    "                    sex_sim(a1,a2,data), \n",
    "                    capital_gain_sim(a1,a2,data), \n",
    "                    capital_loss_sim(a1,a2,data), \n",
    "                    hourspweek_sim(a1,a2,data), \n",
    "                    country_sim(a1,a2,data)]\n",
    "    sim_list  = []\n",
    "    for i in sim_list_tmp:\n",
    "        if i != (-1):\n",
    "            sim_list.append(i)\n",
    "    return 1 - sum(sim_list)/len(sim_list)"
   ]
  },
  {
   "cell_type": "markdown",
   "metadata": {},
   "source": [
    "### Example 15.3.1"
   ]
  },
  {
   "cell_type": "code",
   "execution_count": 42,
   "metadata": {},
   "outputs": [
    {
     "name": "stdout",
     "output_type": "stream",
     "text": [
      "0.4243047271764405\n"
     ]
    }
   ],
   "source": [
    "overall_similarity = overall_sim(16,23,data)\n",
    "print(overall_similarity)\n",
    "#Similarity is 0.4243047271764405."
   ]
  }
 ],
 "metadata": {
  "kernelspec": {
   "display_name": "Python 3",
   "language": "python",
   "name": "python3"
  },
  "language_info": {
   "codemirror_mode": {
    "name": "ipython",
    "version": 3
   },
   "file_extension": ".py",
   "mimetype": "text/x-python",
   "name": "python",
   "nbconvert_exporter": "python",
   "pygments_lexer": "ipython3",
   "version": "3.8.5"
  }
 },
 "nbformat": 4,
 "nbformat_minor": 4
}
